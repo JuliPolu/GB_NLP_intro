{
 "cells": [
  {
   "attachments": {},
   "cell_type": "markdown",
   "id": "73c85a3b",
   "metadata": {},
   "source": [
    "Задание\n",
    "\n",
    "Взять датасет\n",
    "https://huggingface.co/datasets/merionum/ru_paraphraser\n",
    "решить задачу парафраза\n",
    "\n",
    "(дополнительно необязательная задача)на выбор взять\n",
    "https://huggingface.co/datasets/sberquad\n",
    "https://huggingface.co/datasets/blinoff/medical_qa_ru_data\n",
    "натренировать любую модель для вопросно ответной системы\n",
    "как альтернатива можно взять любой NER датасет из https://github.com/natasha/corus#reference и обучить NER"
   ]
  },
  {
   "attachments": {},
   "cell_type": "markdown",
   "id": "afda01d7",
   "metadata": {},
   "source": [
    "### Решаем задачу парафраза"
   ]
  },
  {
   "cell_type": "code",
   "execution_count": 1,
   "id": "3325622f",
   "metadata": {},
   "outputs": [
    {
     "data": {
      "application/vnd.jupyter.widget-view+json": {
       "model_id": "1f9aafb74b34404881b4a24dfc90ab0f",
       "version_major": 2,
       "version_minor": 0
      },
      "text/plain": [
       "Downloading readme:   0%|          | 0.00/3.03k [00:00<?, ?B/s]"
      ]
     },
     "metadata": {},
     "output_type": "display_data"
    },
    {
     "name": "stdout",
     "output_type": "stream",
     "text": [
      "Downloading and preparing dataset json/merionum--ru_paraphraser to /Users/aleksandrkrylov/.cache/huggingface/datasets/merionum___json/merionum--ru_paraphraser-ec474e58a96b8289/0.0.0/e347ab1c932092252e717ff3f949105a4dd28b27e842dd53157d2f72e276c2e4...\n"
     ]
    },
    {
     "data": {
      "application/vnd.jupyter.widget-view+json": {
       "model_id": "c54e19b932a54b40ab300ccdd24774e3",
       "version_major": 2,
       "version_minor": 0
      },
      "text/plain": [
       "Downloading data files:   0%|          | 0/2 [00:00<?, ?it/s]"
      ]
     },
     "metadata": {},
     "output_type": "display_data"
    },
    {
     "data": {
      "application/vnd.jupyter.widget-view+json": {
       "model_id": "21e5cd5ad2e940a2817a096207e3159d",
       "version_major": 2,
       "version_minor": 0
      },
      "text/plain": [
       "Downloading data:   0%|          | 0.00/2.17M [00:00<?, ?B/s]"
      ]
     },
     "metadata": {},
     "output_type": "display_data"
    },
    {
     "data": {
      "application/vnd.jupyter.widget-view+json": {
       "model_id": "61847b14628441539e27f6a98bd4dcc6",
       "version_major": 2,
       "version_minor": 0
      },
      "text/plain": [
       "Downloading data:   0%|          | 0.00/605k [00:00<?, ?B/s]"
      ]
     },
     "metadata": {},
     "output_type": "display_data"
    },
    {
     "data": {
      "application/vnd.jupyter.widget-view+json": {
       "model_id": "881f41de4b9848f4a3882ef70b0d020f",
       "version_major": 2,
       "version_minor": 0
      },
      "text/plain": [
       "Extracting data files:   0%|          | 0/2 [00:00<?, ?it/s]"
      ]
     },
     "metadata": {},
     "output_type": "display_data"
    },
    {
     "data": {
      "application/vnd.jupyter.widget-view+json": {
       "model_id": "268dc48e6a934ede928193982be249c7",
       "version_major": 2,
       "version_minor": 0
      },
      "text/plain": [
       "Generating train split: 0 examples [00:00, ? examples/s]"
      ]
     },
     "metadata": {},
     "output_type": "display_data"
    },
    {
     "data": {
      "application/vnd.jupyter.widget-view+json": {
       "model_id": "9feefd1ece9a4b81ac9238dbba4e75fe",
       "version_major": 2,
       "version_minor": 0
      },
      "text/plain": [
       "Generating test split: 0 examples [00:00, ? examples/s]"
      ]
     },
     "metadata": {},
     "output_type": "display_data"
    },
    {
     "name": "stdout",
     "output_type": "stream",
     "text": [
      "Dataset json downloaded and prepared to /Users/aleksandrkrylov/.cache/huggingface/datasets/merionum___json/merionum--ru_paraphraser-ec474e58a96b8289/0.0.0/e347ab1c932092252e717ff3f949105a4dd28b27e842dd53157d2f72e276c2e4. Subsequent calls will reuse this data.\n"
     ]
    },
    {
     "data": {
      "application/vnd.jupyter.widget-view+json": {
       "model_id": "a2ee1de1d3054e628f5dfeb507eed0d6",
       "version_major": 2,
       "version_minor": 0
      },
      "text/plain": [
       "  0%|          | 0/2 [00:00<?, ?it/s]"
      ]
     },
     "metadata": {},
     "output_type": "display_data"
    },
    {
     "data": {
      "text/plain": [
       "DatasetDict({\n",
       "    train: Dataset({\n",
       "        features: ['id', 'id_1', 'id_2', 'text_1', 'text_2', 'class'],\n",
       "        num_rows: 7227\n",
       "    })\n",
       "    test: Dataset({\n",
       "        features: ['id', 'id_1', 'id_2', 'text_1', 'text_2', 'class'],\n",
       "        num_rows: 1924\n",
       "    })\n",
       "})"
      ]
     },
     "execution_count": 1,
     "metadata": {},
     "output_type": "execute_result"
    }
   ],
   "source": [
    "# Загрузка датасета\n",
    "\n",
    "from datasets import load_dataset\n",
    "\n",
    "dataset = load_dataset(\"merionum/ru_paraphraser\")\n",
    "\n",
    "dataset"
   ]
  },
  {
   "cell_type": "code",
   "execution_count": 2,
   "id": "e6f2a604",
   "metadata": {},
   "outputs": [
    {
     "data": {
      "application/vnd.jupyter.widget-view+json": {
       "model_id": "5025241d87d14e9589d3087f6abb0419",
       "version_major": 2,
       "version_minor": 0
      },
      "text/plain": [
       "Downloading (…)okenizer_config.json:   0%|          | 0.00/315 [00:00<?, ?B/s]"
      ]
     },
     "metadata": {},
     "output_type": "display_data"
    },
    {
     "data": {
      "application/vnd.jupyter.widget-view+json": {
       "model_id": "5f13f6364d02416ba022f7a21bbabdec",
       "version_major": 2,
       "version_minor": 0
      },
      "text/plain": [
       "Downloading spiece.model:   0%|          | 0.00/828k [00:00<?, ?B/s]"
      ]
     },
     "metadata": {},
     "output_type": "display_data"
    },
    {
     "data": {
      "application/vnd.jupyter.widget-view+json": {
       "model_id": "a78f73125e6e41d1834af84a40fa8f1c",
       "version_major": 2,
       "version_minor": 0
      },
      "text/plain": [
       "Downloading (…)cial_tokens_map.json:   0%|          | 0.00/65.0 [00:00<?, ?B/s]"
      ]
     },
     "metadata": {},
     "output_type": "display_data"
    },
    {
     "name": "stderr",
     "output_type": "stream",
     "text": [
      "/Users/aleksandrkrylov/anaconda3/lib/python3.9/site-packages/transformers/convert_slow_tokenizer.py:454: UserWarning: The sentencepiece tokenizer that you are converting to a fast tokenizer uses the byte fallback option which is not implemented in the fast tokenizers. In practice this means that the fast version of the tokenizer can produce unknown tokens whereas the sentencepiece version would have converted these unknown tokens into a sequence of byte tokens matching the original piece of text.\n",
      "  warnings.warn(\n"
     ]
    },
    {
     "data": {
      "application/vnd.jupyter.widget-view+json": {
       "model_id": "19d40bfc1c65497d9c37eb139d55f716",
       "version_major": 2,
       "version_minor": 0
      },
      "text/plain": [
       "Downloading (…)lve/main/config.json:   0%|          | 0.00/724 [00:00<?, ?B/s]"
      ]
     },
     "metadata": {},
     "output_type": "display_data"
    },
    {
     "data": {
      "application/vnd.jupyter.widget-view+json": {
       "model_id": "f41d356dd0654185938b879f2c9f19f3",
       "version_major": 2,
       "version_minor": 0
      },
      "text/plain": [
       "Downloading model.safetensors:   0%|          | 0.00/977M [00:00<?, ?B/s]"
      ]
     },
     "metadata": {},
     "output_type": "display_data"
    }
   ],
   "source": [
    "# Загрузка предобученных моделей и пайплайна\n",
    "\n",
    "from transformers import AutoTokenizer, AutoModelForSeq2SeqLM\n",
    "\n",
    "tokenizer = AutoTokenizer.from_pretrained(\"cointegrated/rut5-base-paraphraser\")\n",
    "\n",
    "model = AutoModelForSeq2SeqLM.from_pretrained(\"cointegrated/rut5-base-paraphraser\")"
   ]
  },
  {
   "cell_type": "code",
   "execution_count": 3,
   "id": "7c5ac69e",
   "metadata": {},
   "outputs": [],
   "source": [
    "# Создадим функцию для парафраза\n",
    "\n",
    "def paraphrase(text, beams=6, grams=3, do_sample=False):\n",
    "    x = tokenizer(text, return_tensors='pt', padding=True).to(model.device)\n",
    "    max_size = int(x.input_ids.shape[1] * 1.5 + 10)\n",
    "    out = model.generate(**x, encoder_no_repeat_ngram_size=grams, num_beams=beams, max_length=max_size, do_sample=do_sample)\n",
    "    return tokenizer.decode(out[0], skip_special_tokens=True)"
   ]
  },
  {
   "cell_type": "code",
   "execution_count": 5,
   "id": "3e19cf20",
   "metadata": {},
   "outputs": [
    {
     "name": "stdout",
     "output_type": "stream",
     "text": [
      "Initial text:  Полицейским разрешат стрелять на поражение по гражданам с травматикой.\n",
      "Parafrase:  Полиция разрешит стрелять в поражение гражданам, имеющим травматизм.\n",
      "------------------------------------------------------------\n",
      "Initial text:  Право полицейских на проникновение в жилище решили ограничить.\n",
      "Parafrase:  Решено ограничить право полиции проникнуть в жилье.\n",
      "------------------------------------------------------------\n",
      "Initial text:  Президент Египта ввел чрезвычайное положение в мятежных городах.\n",
      "Parafrase:  В Египте президент ввел особое положение по мятежным городам.\n",
      "------------------------------------------------------------\n",
      "Initial text:  Вернувшихся из Сирии россиян волнует вопрос трудоустройства на родине.\n",
      "Parafrase:  Вопрос трудоустройства россиян, вернувшихся из Сирии, волнует возвращающихся из страны.\n",
      "------------------------------------------------------------\n",
      "Initial text:  В Москву из Сирии вернулись 2 самолета МЧС с россиянами на борту.\n",
      "Parafrase:  На борту Москвы вернулись два самолета МИДа с гражданами России.\n",
      "------------------------------------------------------------\n",
      "Initial text:  Приставы соберут отпечатки пальцев российских должников.\n",
      "Parafrase:  Российские должники будут собирать печати пальцев.\n",
      "------------------------------------------------------------\n",
      "Initial text:  На саратовского дебошира с борта самолета Москва - Хургада заведено дело.\n",
      "Parafrase:  Саратовский дебошир с рейса Москва-Хургада задержан.\n",
      "------------------------------------------------------------\n",
      "Initial text:  ЦИК хочет отказаться от электронной системы подсчета голосов.\n",
      "Parafrase:  Центризбирком хочет отложить электронную систему подсчета голоса.\n",
      "------------------------------------------------------------\n",
      "Initial text:  Суд Петербурга оставил на потом дело о гибели подростка в полиции.\n",
      "Parafrase:  Суд Санкт-Петербурга оставил дело об убийстве подростка полицией.\n",
      "------------------------------------------------------------\n",
      "Initial text:  Страны ОПЕК сократили добычу нефти на 1 млн баррелей в день.\n",
      "Parafrase:  В ОПЕК страны снизили объем добычи нефти до 1 миллиона баррелеев в сутки.\n",
      "------------------------------------------------------------\n"
     ]
    }
   ],
   "source": [
    "# Примеры работы парафраза\n",
    "\n",
    "for i in range(10):\n",
    "    print('Initial text: ', dataset[\"train\"][i]['text_1'])\n",
    "    print('Parafrase: ', paraphrase(dataset[\"train\"][i]['text_1']))\n",
    "    print('------------------------------------------------------------')"
   ]
  }
 ],
 "metadata": {
  "kernelspec": {
   "display_name": "Python 3 (ipykernel)",
   "language": "python",
   "name": "python3"
  },
  "language_info": {
   "codemirror_mode": {
    "name": "ipython",
    "version": 3
   },
   "file_extension": ".py",
   "mimetype": "text/x-python",
   "name": "python",
   "nbconvert_exporter": "python",
   "pygments_lexer": "ipython3",
   "version": "3.9.15"
  }
 },
 "nbformat": 4,
 "nbformat_minor": 5
}
